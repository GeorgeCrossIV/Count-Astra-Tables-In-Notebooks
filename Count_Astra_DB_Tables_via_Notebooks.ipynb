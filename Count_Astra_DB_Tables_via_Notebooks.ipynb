{
  "nbformat": 4,
  "nbformat_minor": 0,
  "metadata": {
    "colab": {
      "provenance": [],
      "authorship_tag": "ABX9TyPexXO6ZfVwO5Hy1YwEJdAt",
      "include_colab_link": true
    },
    "kernelspec": {
      "name": "python3",
      "display_name": "Python 3"
    },
    "language_info": {
      "name": "python"
    }
  },
  "cells": [
    {
      "cell_type": "markdown",
      "metadata": {
        "id": "view-in-github",
        "colab_type": "text"
      },
      "source": [
        "<a href=\"https://colab.research.google.com/github/GeorgeCrossIV/Count-Astra-Tables-In-Notebooks/blob/main/Count_Astra_DB_Tables_via_Notebooks.ipynb\" target=\"_parent\"><img src=\"https://colab.research.google.com/assets/colab-badge.svg\" alt=\"Open In Colab\"/></a>"
      ]
    },
    {
      "cell_type": "markdown",
      "source": [
        "# Count Astra DB Tables in Notebooks\n",
        "This notebook provides an example of how to count very large Astra tables using the dsbulk took when working in a notebook.\n",
        "## Prerequisites\n",
        "- Astra DB account. Generate a token to obtain the username (Client ID) and password (Secret)\n",
        "- A secure connect bundle. Please upload and update the secureconnectbundle variable\n",
        "- Update the table and keyspace name in the variables section"
      ],
      "metadata": {
        "id": "W9Ntq7WAiPw5"
      }
    },
    {
      "cell_type": "code",
      "execution_count": null,
      "metadata": {
        "id": "RDNP-W6Haj53"
      },
      "outputs": [],
      "source": [
        "# Download DSBulk\n",
        "!wget https://downloads.datastax.com/dsbulk/dsbulk.tar.gz\n",
        "\n",
        "# Extract DSBulk\n",
        "!tar -xvf dsbulk.tar.gz\n",
        "\n",
        "# Make dsbulk executable\n",
        "!chmod +x dsbulk-1.11.0/bin/dsbulk"
      ]
    },
    {
      "cell_type": "code",
      "source": [
        "# Define Variables\n",
        "keyspace = 'yelp'\n",
        "table = 'review'"
      ],
      "metadata": {
        "id": "v7NpxPNtenkt"
      },
      "execution_count": 28,
      "outputs": []
    },
    {
      "cell_type": "code",
      "source": [
        "# Prompt the user for username and password\n",
        "username = input(\"Enter your Astra DB username: \")\n",
        "password = input(\"Enter your Astra DB password: \")"
      ],
      "metadata": {
        "id": "ojIVArG4fX97"
      },
      "execution_count": null,
      "outputs": []
    },
    {
      "cell_type": "code",
      "source": [
        "# Upload your Secure Connect Bundle zipfile:\n",
        "import os\n",
        "from google.colab import files\n",
        "\n",
        "print('Please upload your Secure Connect Bundle')\n",
        "uploaded = files.upload()\n",
        "if uploaded:\n",
        "    astraBundleFileTitle = list(uploaded.keys())[0]\n",
        "    scb_path = os.path.join(os.getcwd(), astraBundleFileTitle)\n",
        "else:\n",
        "    raise ValueError(\n",
        "        'Cannot proceed without Secure Connect Bundle. Please re-run the cell.'\n",
        "    )"
      ],
      "metadata": {
        "id": "hdvavT5BkzMS"
      },
      "execution_count": null,
      "outputs": []
    },
    {
      "cell_type": "code",
      "source": [
        "# Run DSBulk Command to obtain the count\n",
        "dsbulk_command = f\"./dsbulk-1.11.0/bin/dsbulk count -k {keyspace} -t {table} -b '{scb_path}' -u {username} -p {password}\"\n",
        "!{dsbulk_command}"
      ],
      "metadata": {
        "colab": {
          "base_uri": "https://localhost:8080/"
        },
        "id": "UAh7z2T3lBIj",
        "outputId": "244ec952-f72a-4bf5-d748-d68ef200a847"
      },
      "execution_count": 31,
      "outputs": [
        {
          "output_type": "stream",
          "name": "stdout",
          "text": [
            "Username and password provided but auth provider not specified, inferring PlainTextAuthProvider\n",
            "A cloud secure connect bundle was provided: ignoring all explicit contact points.\n",
            "Operation directory: /content/logs/COUNT_20240610-191900-489616\n",
            " total | failed\u001b[m\n",
            "\u001b[36m79,665\u001b[m | \u001b[36m     0\u001b[m\n",
            "\u001b[1;31mOperation COUNT_20240610-191900-489616 interrupted, waiting for termination.\u001b[m\n",
            "  total | failed\u001b[m\n",
            "\u001b[36m189,665\u001b[m | \u001b[36m     0\u001b[m\n",
            "Checkpoints for the current operation were written to checkpoint.csv.\n",
            "To resume the current operation, re-run it with the same settings, and add the following command line flag:\n",
            "--dsbulk.log.checkpoint.file=/content/logs/COUNT_20240610-191900-489616/checkpoint.csv\n",
            "189665\n",
            "\u001b[1;33mPlease note: the totals reported above are probably inaccurate, since the operation did not complete successfully.\u001b[m\n"
          ]
        }
      ]
    }
  ]
}