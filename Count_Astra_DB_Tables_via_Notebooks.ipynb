{
  "nbformat": 4,
  "nbformat_minor": 0,
  "metadata": {
    "colab": {
      "provenance": [],
      "authorship_tag": "ABX9TyPX9L68TIQg+oG+4wwgnHuk",
      "include_colab_link": true
    },
    "kernelspec": {
      "name": "python3",
      "display_name": "Python 3"
    },
    "language_info": {
      "name": "python"
    }
  },
  "cells": [
    {
      "cell_type": "markdown",
      "metadata": {
        "id": "view-in-github",
        "colab_type": "text"
      },
      "source": [
        "<a href=\"https://colab.research.google.com/github/GeorgeCrossIV/Count-Astra-Tables-In-Notebooks/blob/main/Count_Astra_DB_Tables_via_Notebooks.ipynb\" target=\"_parent\"><img src=\"https://colab.research.google.com/assets/colab-badge.svg\" alt=\"Open In Colab\"/></a>"
      ]
    },
    {
      "cell_type": "markdown",
      "source": [
        "# Count Astra DB Tables in Notebooks\n",
        "This notebook provides an example of how to count very large Astra tables using the dsbulk took when working in a notebook.\n",
        "## Prerequisites\n",
        "- Astra DB account. Generate a token to obtain the username (Client ID) and password (Secret)\n",
        "- A secure connect bundle. Please upload and update the secureconnectbundle variable\n",
        "- Update the table and keyspace name in the variables section"
      ],
      "metadata": {
        "id": "W9Ntq7WAiPw5"
      }
    },
    {
      "cell_type": "code",
      "execution_count": null,
      "metadata": {
        "id": "RDNP-W6Haj53"
      },
      "outputs": [],
      "source": [
        "# Download DSBulk\n",
        "!wget https://downloads.datastax.com/dsbulk/dsbulk.tar.gz\n",
        "\n",
        "# Extract DSBulk\n",
        "!tar -xvf dsbulk.tar.gz\n",
        "\n",
        "# Make dsbulk executable\n",
        "!chmod +x dsbulk-1.11.0/bin/dsbulk"
      ]
    },
    {
      "cell_type": "code",
      "source": [
        "# Prompt the user for username and password\n",
        "username = input(\"Enter your Astra DB username: \")\n",
        "password = input(\"Enter your Astra DB password: \")"
      ],
      "metadata": {
        "id": "ojIVArG4fX97"
      },
      "execution_count": null,
      "outputs": []
    },
    {
      "cell_type": "code",
      "source": [
        "# Define Variables\n",
        "keyspace = 'yelp'\n",
        "table = 'review'\n",
        "secureconnectbundle = '/content/secure-connect-cassio-db.zip'"
      ],
      "metadata": {
        "id": "v7NpxPNtenkt"
      },
      "execution_count": 22,
      "outputs": []
    },
    {
      "cell_type": "code",
      "source": [
        "# Run DSBulk Command\n",
        "dsbulk_command = f\"./dsbulk-1.11.0/bin/dsbulk count -k {keyspace} -t {table} -b {secureconnectbundle} -u {username} -p {password}\"\n",
        "!{dsbulk_command}"
      ],
      "metadata": {
        "colab": {
          "base_uri": "https://localhost:8080/"
        },
        "id": "R2fpqEFcemu1",
        "outputId": "42a74b32-2461-40c3-f459-4f8d945cba48"
      },
      "execution_count": 23,
      "outputs": [
        {
          "output_type": "stream",
          "name": "stdout",
          "text": [
            "Username and password provided but auth provider not specified, inferring PlainTextAuthProvider\n",
            "A cloud secure connect bundle was provided: ignoring all explicit contact points.\n",
            "Operation directory: /content/logs/COUNT_20240610-185247-203733\n",
            " total | failed\u001b[m\n",
            "\u001b[36m70,000\u001b[m | \u001b[36m     0\u001b[m\n",
            "\u001b[1;31mOperation COUNT_20240610-185247-203733 interrupted, waiting for termination.\u001b[m\n",
            "  total | failed\u001b[m\n",
            "\u001b[36m115,000\u001b[m | \u001b[36m     0\u001b[m\n",
            "Checkpoints for the current operation were written to checkpoint.csv.\n",
            "To resume the current operation, re-run it with the same settings, and add the following command line flag:\n",
            "--dsbulk.log.checkpoint.file=/content/logs/COUNT_20240610-185247-203733/checkpoint.csv\n",
            "115000\n",
            "\u001b[1;33mPlease note: the totals reported above are probably inaccurate, since the operation did not complete successfully.\u001b[m\n",
            "^C\n"
          ]
        }
      ]
    }
  ]
}